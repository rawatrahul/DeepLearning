{
  "nbformat": 4,
  "nbformat_minor": 0,
  "metadata": {
    "colab": {
      "name": "alexnet_in_keras.ipynb",
      "version": "0.3.2",
      "provenance": []
    },
    "kernelspec": {
      "name": "python3",
      "display_name": "Python 3"
    },
    "accelerator": "GPU"
  },
  "cells": [
    {
      "metadata": {
        "id": "H9ewOfPMdrzT",
        "colab_type": "text"
      },
      "cell_type": "markdown",
      "source": [
        "#Alexnet in keras"
      ]
    },
    {
      "metadata": {
        "id": "rwXRA5s-dz8f",
        "colab_type": "text"
      },
      "cell_type": "markdown",
      "source": [
        "Using keras to create an alexnet copy"
      ]
    },
    {
      "metadata": {
        "id": "LYBkgQaOefom",
        "colab_type": "text"
      },
      "cell_type": "markdown",
      "source": [
        "####Set seed for reproducibility"
      ]
    },
    {
      "metadata": {
        "id": "0quZ5O3YcA_M",
        "colab_type": "code",
        "colab": {
          "base_uri": "https://localhost:8080/",
          "height": 102
        },
        "outputId": "af505b29-9e1f-4f0f-accb-e8a9ae8c8f20"
      },
      "cell_type": "code",
      "source": [
        "import numpy as np\n",
        "np.random.seed(42)\n",
        "!pip install tflearn"
      ],
      "execution_count": 1,
      "outputs": [
        {
          "output_type": "stream",
          "text": [
            "Requirement already satisfied: tflearn in /usr/local/lib/python3.6/dist-packages (0.3.2)\n",
            "Requirement already satisfied: numpy in /usr/local/lib/python3.6/dist-packages (from tflearn) (1.14.6)\n",
            "Requirement already satisfied: Pillow in /usr/local/lib/python3.6/dist-packages (from tflearn) (4.0.0)\n",
            "Requirement already satisfied: six in /usr/local/lib/python3.6/dist-packages (from tflearn) (1.11.0)\n",
            "Requirement already satisfied: olefile in /usr/local/lib/python3.6/dist-packages (from Pillow->tflearn) (0.46)\n"
          ],
          "name": "stdout"
        }
      ]
    },
    {
      "metadata": {
        "id": "1pGirKVHexHg",
        "colab_type": "text"
      },
      "cell_type": "markdown",
      "source": [
        "####Load dependencies"
      ]
    },
    {
      "metadata": {
        "id": "MPP4y-FycWxe",
        "colab_type": "code",
        "colab": {
          "base_uri": "https://localhost:8080/",
          "height": 34
        },
        "outputId": "1b6a8131-eb05-49bc-f791-903881e8e4fa"
      },
      "cell_type": "code",
      "source": [
        "import keras\n",
        "import tflearn\n",
        "from keras.models import Sequential\n",
        "from keras.layers import Dense, Dropout, Flatten, Conv2D, MaxPooling2D\n",
        "from keras.layers.normalization import BatchNormalization"
      ],
      "execution_count": 2,
      "outputs": [
        {
          "output_type": "stream",
          "text": [
            "Using TensorFlow backend.\n"
          ],
          "name": "stderr"
        }
      ]
    },
    {
      "metadata": {
        "id": "fBOsxiWzfLSc",
        "colab_type": "text"
      },
      "cell_type": "markdown",
      "source": [
        "####Load and preprocess data"
      ]
    },
    {
      "metadata": {
        "id": "HhAoG5kUca1W",
        "colab_type": "code",
        "colab": {}
      },
      "cell_type": "code",
      "source": [
        "import tflearn.datasets.oxflower17 as oxflower17\n",
        "X, Y = oxflower17.load_data(one_hot=True)"
      ],
      "execution_count": 0,
      "outputs": []
    },
    {
      "metadata": {
        "id": "QesZCWpGfUqK",
        "colab_type": "text"
      },
      "cell_type": "markdown",
      "source": [
        "####Design neural network architecture"
      ]
    },
    {
      "metadata": {
        "id": "7J4LwWpVcgaX",
        "colab_type": "code",
        "colab": {}
      },
      "cell_type": "code",
      "source": [
        "model = Sequential()\n",
        "\n",
        "model.add(Conv2D(96, kernel_size=(11, 11), strides=(4, 4), activation='relu', input_shape=(224, 224, 3)))\n",
        "model.add(MaxPooling2D(pool_size=(3, 3), strides=(2, 2)))\n",
        "model.add(BatchNormalization())\n",
        "\n",
        "model.add(Conv2D(256, kernel_size=(5, 5), activation='relu'))\n",
        "model.add(MaxPooling2D(pool_size=(3, 3), strides=(2, 2)))\n",
        "model.add(BatchNormalization())\n",
        "\n",
        "model.add(Conv2D(256, kernel_size=(3, 3), activation='relu'))\n",
        "model.add(Conv2D(384, kernel_size=(3, 3), activation='relu'))\n",
        "model.add(Conv2D(384, kernel_size=(3, 3), activation='relu'))\n",
        "model.add(MaxPooling2D(pool_size=(3, 3), strides=(2, 2)))\n",
        "model.add(BatchNormalization())\n",
        "\n",
        "model.add(Flatten())\n",
        "model.add(Dense(4096, activation='tanh'))\n",
        "model.add(Dropout(0.5))\n",
        "model.add(Dense(4096, activation='tanh'))\n",
        "model.add(Dropout(0.5))\n",
        "\n",
        "model.add(Dense(17, activation='softmax'))"
      ],
      "execution_count": 0,
      "outputs": []
    },
    {
      "metadata": {
        "id": "Cfp4V8g2dMP2",
        "colab_type": "code",
        "colab": {
          "base_uri": "https://localhost:8080/",
          "height": 714
        },
        "outputId": "2b94d751-7d07-4bd9-ade4-a1db6503c555"
      },
      "cell_type": "code",
      "source": [
        "model.summary()"
      ],
      "execution_count": 5,
      "outputs": [
        {
          "output_type": "stream",
          "text": [
            "_________________________________________________________________\n",
            "Layer (type)                 Output Shape              Param #   \n",
            "=================================================================\n",
            "conv2d_1 (Conv2D)            (None, 54, 54, 96)        34944     \n",
            "_________________________________________________________________\n",
            "max_pooling2d_1 (MaxPooling2 (None, 26, 26, 96)        0         \n",
            "_________________________________________________________________\n",
            "batch_normalization_1 (Batch (None, 26, 26, 96)        384       \n",
            "_________________________________________________________________\n",
            "conv2d_2 (Conv2D)            (None, 22, 22, 256)       614656    \n",
            "_________________________________________________________________\n",
            "max_pooling2d_2 (MaxPooling2 (None, 10, 10, 256)       0         \n",
            "_________________________________________________________________\n",
            "batch_normalization_2 (Batch (None, 10, 10, 256)       1024      \n",
            "_________________________________________________________________\n",
            "conv2d_3 (Conv2D)            (None, 8, 8, 256)         590080    \n",
            "_________________________________________________________________\n",
            "conv2d_4 (Conv2D)            (None, 6, 6, 384)         885120    \n",
            "_________________________________________________________________\n",
            "conv2d_5 (Conv2D)            (None, 4, 4, 384)         1327488   \n",
            "_________________________________________________________________\n",
            "max_pooling2d_3 (MaxPooling2 (None, 1, 1, 384)         0         \n",
            "_________________________________________________________________\n",
            "batch_normalization_3 (Batch (None, 1, 1, 384)         1536      \n",
            "_________________________________________________________________\n",
            "flatten_1 (Flatten)          (None, 384)               0         \n",
            "_________________________________________________________________\n",
            "dense_1 (Dense)              (None, 4096)              1576960   \n",
            "_________________________________________________________________\n",
            "dropout_1 (Dropout)          (None, 4096)              0         \n",
            "_________________________________________________________________\n",
            "dense_2 (Dense)              (None, 4096)              16781312  \n",
            "_________________________________________________________________\n",
            "dropout_2 (Dropout)          (None, 4096)              0         \n",
            "_________________________________________________________________\n",
            "dense_3 (Dense)              (None, 17)                69649     \n",
            "=================================================================\n",
            "Total params: 21,883,153\n",
            "Trainable params: 21,881,681\n",
            "Non-trainable params: 1,472\n",
            "_________________________________________________________________\n"
          ],
          "name": "stdout"
        }
      ]
    },
    {
      "metadata": {
        "id": "skJBpEiXfeB3",
        "colab_type": "text"
      },
      "cell_type": "markdown",
      "source": [
        "####Configure model"
      ]
    },
    {
      "metadata": {
        "id": "9YNRcSuFdPoR",
        "colab_type": "code",
        "colab": {}
      },
      "cell_type": "code",
      "source": [
        "model.compile(loss='categorical_crossentropy', optimizer='adam', metrics=['accuracy'])"
      ],
      "execution_count": 0,
      "outputs": []
    },
    {
      "metadata": {
        "id": "5l04BNuzff_p",
        "colab_type": "text"
      },
      "cell_type": "markdown",
      "source": [
        "####Train!"
      ]
    },
    {
      "metadata": {
        "id": "7n59K-YSdUHj",
        "colab_type": "code",
        "colab": {
          "base_uri": "https://localhost:8080/",
          "height": 3451
        },
        "outputId": "05dd3df0-ac1b-4bba-a987-618239a478bb"
      },
      "cell_type": "code",
      "source": [
        "model.fit(X, Y, batch_size=64, epochs=100, verbose=1, validation_split=0.1, shuffle=True)"
      ],
      "execution_count": 7,
      "outputs": [
        {
          "output_type": "stream",
          "text": [
            "Train on 1224 samples, validate on 136 samples\n",
            "Epoch 1/100\n",
            "1224/1224 [==============================] - 6s 5ms/step - loss: 4.1661 - acc: 0.2230 - val_loss: 7.3087 - val_acc: 0.1691\n",
            "Epoch 2/100\n",
            "1224/1224 [==============================] - 3s 2ms/step - loss: 3.2540 - acc: 0.2876 - val_loss: 4.7462 - val_acc: 0.2426\n",
            "Epoch 3/100\n",
            "1224/1224 [==============================] - 3s 2ms/step - loss: 2.6889 - acc: 0.3480 - val_loss: 3.7383 - val_acc: 0.3015\n",
            "Epoch 4/100\n",
            "1224/1224 [==============================] - 3s 2ms/step - loss: 2.3190 - acc: 0.4011 - val_loss: 3.2772 - val_acc: 0.3676\n",
            "Epoch 5/100\n",
            "1224/1224 [==============================] - 3s 2ms/step - loss: 2.0484 - acc: 0.4404 - val_loss: 3.4753 - val_acc: 0.2941\n",
            "Epoch 6/100\n",
            "1224/1224 [==============================] - 3s 2ms/step - loss: 2.1105 - acc: 0.4355 - val_loss: 2.1614 - val_acc: 0.4485\n",
            "Epoch 7/100\n",
            "1224/1224 [==============================] - 3s 2ms/step - loss: 2.1416 - acc: 0.4346 - val_loss: 2.7973 - val_acc: 0.3015\n",
            "Epoch 8/100\n",
            "1224/1224 [==============================] - 3s 2ms/step - loss: 2.0137 - acc: 0.4649 - val_loss: 10.3565 - val_acc: 0.0588\n",
            "Epoch 9/100\n",
            "1224/1224 [==============================] - 3s 2ms/step - loss: 2.0610 - acc: 0.4567 - val_loss: 6.1072 - val_acc: 0.1912\n",
            "Epoch 10/100\n",
            "1224/1224 [==============================] - 3s 2ms/step - loss: 2.0728 - acc: 0.4861 - val_loss: 5.9682 - val_acc: 0.2353\n",
            "Epoch 11/100\n",
            "1224/1224 [==============================] - 3s 2ms/step - loss: 2.2271 - acc: 0.4273 - val_loss: 4.8522 - val_acc: 0.2206\n",
            "Epoch 12/100\n",
            "1224/1224 [==============================] - 3s 2ms/step - loss: 2.0684 - acc: 0.4404 - val_loss: 4.9594 - val_acc: 0.2426\n",
            "Epoch 13/100\n",
            "1224/1224 [==============================] - 3s 2ms/step - loss: 1.6911 - acc: 0.5098 - val_loss: 3.2463 - val_acc: 0.3971\n",
            "Epoch 14/100\n",
            "1224/1224 [==============================] - 3s 2ms/step - loss: 1.6832 - acc: 0.5196 - val_loss: 2.5925 - val_acc: 0.4118\n",
            "Epoch 15/100\n",
            "1224/1224 [==============================] - 3s 2ms/step - loss: 1.8736 - acc: 0.5033 - val_loss: 3.5623 - val_acc: 0.3824\n",
            "Epoch 16/100\n",
            "1224/1224 [==============================] - 3s 2ms/step - loss: 2.0325 - acc: 0.4681 - val_loss: 2.4300 - val_acc: 0.4485\n",
            "Epoch 17/100\n",
            "1224/1224 [==============================] - 3s 2ms/step - loss: 1.6954 - acc: 0.5458 - val_loss: 3.0561 - val_acc: 0.4412\n",
            "Epoch 18/100\n",
            "1224/1224 [==============================] - 3s 2ms/step - loss: 1.7971 - acc: 0.5155 - val_loss: 4.1025 - val_acc: 0.3088\n",
            "Epoch 19/100\n",
            "1224/1224 [==============================] - 3s 2ms/step - loss: 1.8301 - acc: 0.5245 - val_loss: 2.3616 - val_acc: 0.5074\n",
            "Epoch 20/100\n",
            "1224/1224 [==============================] - 3s 2ms/step - loss: 1.6829 - acc: 0.5441 - val_loss: 2.7617 - val_acc: 0.4412\n",
            "Epoch 21/100\n",
            "1224/1224 [==============================] - 3s 2ms/step - loss: 1.6750 - acc: 0.5629 - val_loss: 3.7046 - val_acc: 0.3309\n",
            "Epoch 22/100\n",
            "1224/1224 [==============================] - 3s 2ms/step - loss: 1.1819 - acc: 0.6454 - val_loss: 1.7372 - val_acc: 0.5588\n",
            "Epoch 23/100\n",
            "1224/1224 [==============================] - 3s 2ms/step - loss: 1.2353 - acc: 0.6650 - val_loss: 3.6910 - val_acc: 0.4632\n",
            "Epoch 24/100\n",
            "1224/1224 [==============================] - 3s 2ms/step - loss: 1.3361 - acc: 0.6569 - val_loss: 1.8151 - val_acc: 0.5588\n",
            "Epoch 25/100\n",
            "1224/1224 [==============================] - 3s 2ms/step - loss: 1.1435 - acc: 0.6593 - val_loss: 1.6727 - val_acc: 0.5956\n",
            "Epoch 26/100\n",
            "1224/1224 [==============================] - 3s 2ms/step - loss: 1.1768 - acc: 0.6650 - val_loss: 2.2542 - val_acc: 0.5515\n",
            "Epoch 27/100\n",
            "1224/1224 [==============================] - 3s 2ms/step - loss: 1.3181 - acc: 0.6609 - val_loss: 2.1927 - val_acc: 0.5662\n",
            "Epoch 28/100\n",
            "1224/1224 [==============================] - 3s 2ms/step - loss: 1.0990 - acc: 0.7018 - val_loss: 2.4582 - val_acc: 0.5147\n",
            "Epoch 29/100\n",
            "1224/1224 [==============================] - 3s 2ms/step - loss: 1.0903 - acc: 0.6904 - val_loss: 2.4025 - val_acc: 0.5735\n",
            "Epoch 30/100\n",
            "1224/1224 [==============================] - 3s 2ms/step - loss: 1.1200 - acc: 0.6912 - val_loss: 3.8321 - val_acc: 0.4779\n",
            "Epoch 31/100\n",
            "1224/1224 [==============================] - 3s 2ms/step - loss: 1.2207 - acc: 0.6863 - val_loss: 3.5860 - val_acc: 0.4191\n",
            "Epoch 32/100\n",
            "1224/1224 [==============================] - 3s 2ms/step - loss: 0.9765 - acc: 0.7100 - val_loss: 2.2500 - val_acc: 0.6103\n",
            "Epoch 33/100\n",
            "1224/1224 [==============================] - 3s 2ms/step - loss: 0.8995 - acc: 0.7426 - val_loss: 2.3658 - val_acc: 0.5074\n",
            "Epoch 34/100\n",
            "1224/1224 [==============================] - 3s 2ms/step - loss: 1.0480 - acc: 0.7132 - val_loss: 3.6167 - val_acc: 0.4853\n",
            "Epoch 35/100\n",
            "1224/1224 [==============================] - 3s 2ms/step - loss: 0.9779 - acc: 0.7247 - val_loss: 3.5005 - val_acc: 0.5368\n",
            "Epoch 36/100\n",
            "1224/1224 [==============================] - 3s 2ms/step - loss: 0.8909 - acc: 0.7459 - val_loss: 2.7537 - val_acc: 0.5221\n",
            "Epoch 37/100\n",
            "1224/1224 [==============================] - 3s 2ms/step - loss: 0.9836 - acc: 0.7320 - val_loss: 3.3707 - val_acc: 0.4779\n",
            "Epoch 38/100\n",
            "1224/1224 [==============================] - 3s 2ms/step - loss: 0.8405 - acc: 0.7614 - val_loss: 2.0254 - val_acc: 0.6103\n",
            "Epoch 39/100\n",
            "1224/1224 [==============================] - 3s 2ms/step - loss: 0.8553 - acc: 0.7606 - val_loss: 2.3911 - val_acc: 0.5809\n",
            "Epoch 40/100\n",
            "1224/1224 [==============================] - 3s 2ms/step - loss: 0.8531 - acc: 0.7623 - val_loss: 2.5950 - val_acc: 0.5147\n",
            "Epoch 41/100\n",
            "1224/1224 [==============================] - 3s 2ms/step - loss: 0.8639 - acc: 0.7672 - val_loss: 2.7043 - val_acc: 0.5147\n",
            "Epoch 42/100\n",
            "1224/1224 [==============================] - 3s 2ms/step - loss: 0.7143 - acc: 0.8056 - val_loss: 1.9167 - val_acc: 0.6176\n",
            "Epoch 43/100\n",
            "1224/1224 [==============================] - 3s 2ms/step - loss: 0.6948 - acc: 0.7998 - val_loss: 2.2579 - val_acc: 0.6029\n",
            "Epoch 44/100\n",
            "1224/1224 [==============================] - 3s 2ms/step - loss: 0.5160 - acc: 0.8423 - val_loss: 2.1939 - val_acc: 0.6103\n",
            "Epoch 45/100\n",
            "1224/1224 [==============================] - 3s 2ms/step - loss: 0.4594 - acc: 0.8611 - val_loss: 2.7225 - val_acc: 0.5735\n",
            "Epoch 46/100\n",
            "1224/1224 [==============================] - 3s 2ms/step - loss: 0.5640 - acc: 0.8472 - val_loss: 2.4497 - val_acc: 0.6029\n",
            "Epoch 47/100\n",
            "1224/1224 [==============================] - 3s 2ms/step - loss: 0.5098 - acc: 0.8505 - val_loss: 2.8662 - val_acc: 0.5735\n",
            "Epoch 48/100\n",
            "1224/1224 [==============================] - 3s 2ms/step - loss: 0.6851 - acc: 0.8080 - val_loss: 2.8890 - val_acc: 0.6029\n",
            "Epoch 49/100\n",
            "1224/1224 [==============================] - 3s 2ms/step - loss: 0.5250 - acc: 0.8497 - val_loss: 3.2201 - val_acc: 0.5147\n",
            "Epoch 50/100\n",
            "1224/1224 [==============================] - 3s 2ms/step - loss: 0.3424 - acc: 0.8905 - val_loss: 2.4806 - val_acc: 0.6397\n",
            "Epoch 51/100\n",
            "1224/1224 [==============================] - 3s 2ms/step - loss: 0.4440 - acc: 0.8824 - val_loss: 2.4381 - val_acc: 0.6324\n",
            "Epoch 52/100\n",
            "1224/1224 [==============================] - 3s 2ms/step - loss: 0.7316 - acc: 0.8211 - val_loss: 2.9600 - val_acc: 0.5809\n",
            "Epoch 53/100\n",
            "1224/1224 [==============================] - 3s 2ms/step - loss: 0.4082 - acc: 0.8742 - val_loss: 3.9873 - val_acc: 0.5294\n",
            "Epoch 54/100\n",
            "1224/1224 [==============================] - 3s 2ms/step - loss: 0.3427 - acc: 0.9020 - val_loss: 3.1317 - val_acc: 0.5735\n",
            "Epoch 55/100\n",
            "1224/1224 [==============================] - 3s 2ms/step - loss: 0.8290 - acc: 0.8194 - val_loss: 4.2644 - val_acc: 0.5000\n",
            "Epoch 56/100\n",
            "1224/1224 [==============================] - 3s 2ms/step - loss: 0.6476 - acc: 0.8292 - val_loss: 3.3090 - val_acc: 0.5735\n",
            "Epoch 57/100\n",
            "1224/1224 [==============================] - 3s 2ms/step - loss: 0.6610 - acc: 0.8374 - val_loss: 2.6069 - val_acc: 0.6103\n",
            "Epoch 58/100\n",
            "1224/1224 [==============================] - 3s 2ms/step - loss: 0.3774 - acc: 0.8897 - val_loss: 2.7999 - val_acc: 0.6103\n",
            "Epoch 59/100\n",
            "1224/1224 [==============================] - 3s 2ms/step - loss: 0.3292 - acc: 0.9069 - val_loss: 2.3489 - val_acc: 0.6691\n",
            "Epoch 60/100\n",
            "1224/1224 [==============================] - 3s 2ms/step - loss: 0.3486 - acc: 0.8962 - val_loss: 2.0567 - val_acc: 0.6544\n",
            "Epoch 61/100\n",
            "1224/1224 [==============================] - 3s 2ms/step - loss: 0.2085 - acc: 0.9314 - val_loss: 2.8006 - val_acc: 0.6250\n",
            "Epoch 62/100\n",
            "1224/1224 [==============================] - 3s 2ms/step - loss: 0.3628 - acc: 0.9036 - val_loss: 2.1185 - val_acc: 0.6691\n",
            "Epoch 63/100\n",
            "1224/1224 [==============================] - 3s 2ms/step - loss: 0.3387 - acc: 0.9118 - val_loss: 2.8574 - val_acc: 0.5735\n",
            "Epoch 64/100\n",
            "1224/1224 [==============================] - 3s 2ms/step - loss: 0.5580 - acc: 0.8562 - val_loss: 3.2793 - val_acc: 0.5588\n",
            "Epoch 65/100\n",
            "1224/1224 [==============================] - 3s 2ms/step - loss: 0.5693 - acc: 0.8513 - val_loss: 2.9299 - val_acc: 0.6103\n",
            "Epoch 66/100\n",
            "1224/1224 [==============================] - 3s 2ms/step - loss: 0.4089 - acc: 0.8905 - val_loss: 2.7221 - val_acc: 0.6691\n",
            "Epoch 67/100\n",
            "1224/1224 [==============================] - 3s 2ms/step - loss: 0.6023 - acc: 0.8595 - val_loss: 2.7022 - val_acc: 0.6029\n",
            "Epoch 68/100\n",
            "1224/1224 [==============================] - 3s 2ms/step - loss: 0.2580 - acc: 0.9281 - val_loss: 2.2360 - val_acc: 0.6691\n",
            "Epoch 69/100\n",
            "1224/1224 [==============================] - 3s 2ms/step - loss: 0.2798 - acc: 0.9191 - val_loss: 3.0628 - val_acc: 0.6176\n",
            "Epoch 70/100\n",
            "1224/1224 [==============================] - 3s 2ms/step - loss: 0.3148 - acc: 0.9142 - val_loss: 2.5570 - val_acc: 0.6912\n",
            "Epoch 71/100\n",
            "1224/1224 [==============================] - 3s 2ms/step - loss: 0.2094 - acc: 0.9338 - val_loss: 2.3531 - val_acc: 0.6838\n",
            "Epoch 72/100\n",
            "1224/1224 [==============================] - 3s 2ms/step - loss: 0.1495 - acc: 0.9534 - val_loss: 2.8304 - val_acc: 0.6397\n",
            "Epoch 73/100\n",
            "1224/1224 [==============================] - 3s 2ms/step - loss: 0.1049 - acc: 0.9641 - val_loss: 2.9007 - val_acc: 0.6691\n",
            "Epoch 74/100\n",
            "1224/1224 [==============================] - 3s 2ms/step - loss: 0.3411 - acc: 0.9069 - val_loss: 4.2462 - val_acc: 0.5147\n",
            "Epoch 75/100\n",
            "1224/1224 [==============================] - 3s 2ms/step - loss: 0.4359 - acc: 0.9060 - val_loss: 3.7887 - val_acc: 0.5809\n",
            "Epoch 76/100\n",
            "1224/1224 [==============================] - 3s 2ms/step - loss: 0.3327 - acc: 0.9101 - val_loss: 3.0597 - val_acc: 0.5882\n",
            "Epoch 77/100\n",
            "1224/1224 [==============================] - 3s 2ms/step - loss: 0.3427 - acc: 0.9044 - val_loss: 2.4814 - val_acc: 0.6250\n",
            "Epoch 78/100\n",
            "1224/1224 [==============================] - 3s 2ms/step - loss: 0.4539 - acc: 0.8962 - val_loss: 3.4384 - val_acc: 0.5956\n",
            "Epoch 79/100\n",
            "1224/1224 [==============================] - 3s 2ms/step - loss: 0.8847 - acc: 0.8317 - val_loss: 3.5271 - val_acc: 0.5221\n",
            "Epoch 80/100\n",
            "1224/1224 [==============================] - 3s 2ms/step - loss: 0.3879 - acc: 0.8938 - val_loss: 2.4105 - val_acc: 0.6544\n",
            "Epoch 81/100\n",
            "1224/1224 [==============================] - 3s 2ms/step - loss: 0.3669 - acc: 0.9167 - val_loss: 3.8591 - val_acc: 0.5221\n",
            "Epoch 82/100\n",
            "1224/1224 [==============================] - 3s 2ms/step - loss: 0.1794 - acc: 0.9485 - val_loss: 2.7546 - val_acc: 0.6544\n",
            "Epoch 83/100\n",
            "1224/1224 [==============================] - 3s 2ms/step - loss: 0.1113 - acc: 0.9690 - val_loss: 2.5728 - val_acc: 0.6691\n",
            "Epoch 84/100\n",
            "1224/1224 [==============================] - 3s 2ms/step - loss: 0.0574 - acc: 0.9812 - val_loss: 2.1406 - val_acc: 0.6912\n",
            "Epoch 85/100\n",
            "1224/1224 [==============================] - 3s 2ms/step - loss: 0.0568 - acc: 0.9820 - val_loss: 2.5111 - val_acc: 0.6765\n",
            "Epoch 86/100\n",
            "1224/1224 [==============================] - 3s 2ms/step - loss: 0.0664 - acc: 0.9747 - val_loss: 2.7364 - val_acc: 0.6691\n",
            "Epoch 87/100\n",
            "1224/1224 [==============================] - 3s 2ms/step - loss: 0.2188 - acc: 0.9444 - val_loss: 2.8599 - val_acc: 0.6471\n",
            "Epoch 88/100\n",
            "1224/1224 [==============================] - 3s 2ms/step - loss: 0.2692 - acc: 0.9346 - val_loss: 3.3842 - val_acc: 0.6250\n",
            "Epoch 89/100\n",
            "1224/1224 [==============================] - 3s 2ms/step - loss: 0.1782 - acc: 0.9493 - val_loss: 2.6984 - val_acc: 0.6691\n",
            "Epoch 90/100\n",
            "1224/1224 [==============================] - 3s 2ms/step - loss: 0.0903 - acc: 0.9739 - val_loss: 2.6489 - val_acc: 0.7426\n",
            "Epoch 91/100\n",
            "1224/1224 [==============================] - 3s 2ms/step - loss: 0.1029 - acc: 0.9698 - val_loss: 2.9840 - val_acc: 0.6250\n",
            "Epoch 92/100\n",
            "1224/1224 [==============================] - 3s 2ms/step - loss: 0.1309 - acc: 0.9673 - val_loss: 2.8682 - val_acc: 0.6691\n",
            "Epoch 93/100\n",
            "1224/1224 [==============================] - 3s 2ms/step - loss: 0.3138 - acc: 0.9404 - val_loss: 3.9463 - val_acc: 0.5588\n",
            "Epoch 94/100\n",
            "1224/1224 [==============================] - 3s 2ms/step - loss: 0.2895 - acc: 0.9371 - val_loss: 4.5763 - val_acc: 0.5368\n",
            "Epoch 95/100\n",
            "1224/1224 [==============================] - 3s 2ms/step - loss: 0.2551 - acc: 0.9363 - val_loss: 2.8164 - val_acc: 0.6838\n",
            "Epoch 96/100\n",
            "1224/1224 [==============================] - 3s 2ms/step - loss: 0.1018 - acc: 0.9673 - val_loss: 2.8672 - val_acc: 0.7059\n",
            "Epoch 97/100\n",
            "1224/1224 [==============================] - 3s 2ms/step - loss: 0.2947 - acc: 0.9355 - val_loss: 3.1107 - val_acc: 0.6324\n",
            "Epoch 98/100\n",
            "1224/1224 [==============================] - 3s 2ms/step - loss: 0.3958 - acc: 0.9085 - val_loss: 3.1874 - val_acc: 0.5882\n",
            "Epoch 99/100\n",
            "1224/1224 [==============================] - 3s 2ms/step - loss: 0.1865 - acc: 0.9477 - val_loss: 2.6570 - val_acc: 0.6471\n",
            "Epoch 100/100\n",
            "1224/1224 [==============================] - 3s 2ms/step - loss: 0.3350 - acc: 0.9297 - val_loss: 3.6865 - val_acc: 0.5294\n"
          ],
          "name": "stdout"
        },
        {
          "output_type": "execute_result",
          "data": {
            "text/plain": [
              "<keras.callbacks.History at 0x7f2c9c7052b0>"
            ]
          },
          "metadata": {
            "tags": []
          },
          "execution_count": 7
        }
      ]
    },
    {
      "metadata": {
        "id": "dkxdxUP3dWcJ",
        "colab_type": "code",
        "colab": {}
      },
      "cell_type": "code",
      "source": [
        ""
      ],
      "execution_count": 0,
      "outputs": []
    }
  ]
}